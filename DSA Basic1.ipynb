{
 "cells": [
  {
   "cell_type": "markdown",
   "id": "aa741fa5",
   "metadata": {},
   "source": [
    "### Q1. Write a program to find all pairs of an integer array whose sum is equal to a given number?\n",
    "\n"
   ]
  },
  {
   "cell_type": "code",
   "execution_count": 1,
   "id": "bf7a2bb1",
   "metadata": {},
   "outputs": [
    {
     "name": "stdout",
     "output_type": "stream",
     "text": [
      "(1, 5)\n",
      "(1, 5)\n",
      "(7, -1)\n"
     ]
    }
   ],
   "source": [
    "def printPairs(arr, n, sum):\n",
    "\n",
    "\tfor i in range(0, n ):\n",
    "\t\tfor j in range(i + 1, n ):\n",
    "\t\t\tif (arr[i] + arr[j] == sum):\n",
    "\t\t\t\tprint(\"(\", arr[i],\n",
    "\t\t\t\t\t\", \", arr[j],\n",
    "\t\t\t\t\t\")\", sep = \"\")\n",
    "\n",
    "\n",
    "arr = [1, 5, 7, -1, 5]\n",
    "n = len(arr)\n",
    "sum = 6\n",
    "printPairs(arr, n, sum)\n",
    "\n"
   ]
  },
  {
   "cell_type": "markdown",
   "id": "7eef84f8",
   "metadata": {},
   "source": [
    "### Q2. Write a program to reverse an array in place? In place means you cannot create a new array. You have to update the original array.\n",
    "\n"
   ]
  },
  {
   "cell_type": "code",
   "execution_count": 3,
   "id": "21b6af8a",
   "metadata": {},
   "outputs": [
    {
     "name": "stdout",
     "output_type": "stream",
     "text": [
      "[1, 2, 3, 4, 5, 6]\n",
      "Reversed list is\n",
      "[6, 5, 4, 3, 2, 1]\n"
     ]
    }
   ],
   "source": [
    "def reverseList(A, start, end):\n",
    "\twhile start < end:\n",
    "\t\tA[start], A[end] = A[end], A[start]\n",
    "\t\tstart += 1\n",
    "\t\tend -= 1\n",
    "\n",
    "A = [1, 2, 3, 4, 5, 6]\n",
    "print(A)\n",
    "reverseList(A, 0, 5)\n",
    "print(\"Reversed list is\")\n",
    "print(A)"
   ]
  },
  {
   "cell_type": "markdown",
   "id": "1337ee2d",
   "metadata": {},
   "source": [
    "### Q3. Write a program to check if two strings are a rotation of each other?\n",
    "\n"
   ]
  },
  {
   "cell_type": "code",
   "execution_count": 7,
   "id": "11f7974b",
   "metadata": {},
   "outputs": [
    {
     "name": "stdout",
     "output_type": "stream",
     "text": [
      "Strings are rotations of each other\n"
     ]
    }
   ],
   "source": [
    "\n",
    "\n",
    "def checkString(s1, s2, indexFound, Size):\n",
    "\tfor i in range(Size):\n",
    "\n",
    "\t\tif(s1[i] != s2[(indexFound + i) % Size]):\n",
    "\t\t\treturn False\n",
    "\n",
    "\treturn True\n",
    "\n",
    "\n",
    "s1 = \"abcd\"\n",
    "s2 = \"cdab\"\n",
    "\n",
    "if(len(s1) != len(s2)):\n",
    "\tprint(\"s2 is not a rotation on s1\")\n",
    "\n",
    "else:\n",
    "\n",
    "\tindexes = [] \n",
    "\tSize = len(s1)\n",
    "\tfirstChar = s1[0]\n",
    "\tfor i in range(Size):\n",
    "\t\tif(s2[i] == firstChar):\n",
    "\t\t\tindexes.append(i)\n",
    "\n",
    "\tisRotation = False\n",
    "\n",
    "\tfor idx in indexes:\n",
    "\n",
    "\t\tisRotation = checkString(s1, s2, idx, Size)\n",
    "\n",
    "\t\tif(isRotation):\n",
    "\t\t\tbreak\n",
    "\n",
    "\tif(isRotation):\n",
    "\t\tprint(\"Strings are rotations of each other\")\n",
    "\telse:\n",
    "\t\tprint(\"Strings are not rotations of each other\")\n",
    "\n"
   ]
  },
  {
   "cell_type": "markdown",
   "id": "56119ec8",
   "metadata": {},
   "source": [
    "### Q4. Write a program to print the first non-repeated character from a string?\n",
    "\n"
   ]
  },
  {
   "cell_type": "code",
   "execution_count": 9,
   "id": "edbfd3b2",
   "metadata": {},
   "outputs": [
    {
     "name": "stdout",
     "output_type": "stream",
     "text": [
      "First non-repeating character is j\n"
     ]
    }
   ],
   "source": [
    "NO_OF_CHARS = 256\n",
    "\n",
    "def getCharCountArray(string):\n",
    "\tcount = [0] * NO_OF_CHARS\n",
    "\tfor i in string:\n",
    "\t\tcount[ord(i)]+= 1\n",
    "\treturn count\n",
    "\n",
    "def firstNonRepeating(string):\n",
    "\tcount = getCharCountArray(string)\n",
    "\tindex = -1\n",
    "\tk = 0\n",
    "\n",
    "\tfor i in string:\n",
    "\t\tif count[ord(i)] == 1:\n",
    "\t\t\tindex = k\n",
    "\t\t\tbreak\n",
    "\t\tk += 1\n",
    "\n",
    "\treturn index\n",
    "\n",
    "string = \"justforfun\"\n",
    "index = firstNonRepeating(string)\n",
    "if index == 1:\n",
    "\tprint (\"Either all characters are repeating or string is empty\")\n",
    "else:\n",
    "\tprint (\"First non-repeating character is\" , string[index])\n",
    "\n"
   ]
  },
  {
   "cell_type": "markdown",
   "id": "25483f90",
   "metadata": {},
   "source": [
    "### Q5. Read about the Tower of Hanoi algorithm. Write a program to implement it.\n",
    "\n"
   ]
  },
  {
   "cell_type": "code",
   "execution_count": 10,
   "id": "3c4be654",
   "metadata": {},
   "outputs": [
    {
     "name": "stdout",
     "output_type": "stream",
     "text": [
      "Move disk 1 from rod A to rod C\n",
      "Move disk 2 from rod A to rod B\n",
      "Move disk 1 from rod C to rod B\n",
      "Move disk 3 from rod A to rod C\n",
      "Move disk 1 from rod B to rod A\n",
      "Move disk 2 from rod B to rod C\n",
      "Move disk 1 from rod A to rod C\n"
     ]
    }
   ],
   "source": [
    "\n",
    "\n",
    "def TowerOfHanoi(n, from_rod, to_rod, aux_rod):\n",
    "\tif n == 0:\n",
    "\t\treturn\n",
    "\tTowerOfHanoi(n-1, from_rod, aux_rod, to_rod)\n",
    "\tprint(\"Move disk\", n, \"from rod\", from_rod, \"to rod\", to_rod)\n",
    "\tTowerOfHanoi(n-1, aux_rod, to_rod, from_rod)\n",
    "\n",
    "\n",
    "N = 3\n",
    "\n",
    "TowerOfHanoi(N, 'A', 'C', 'B')"
   ]
  },
  {
   "cell_type": "markdown",
   "id": "44a98f18",
   "metadata": {},
   "source": [
    "### Q6. Read about infix, prefix, and postfix expressions. Write a program to convert postfix to prefix expression.\n",
    "\n"
   ]
  },
  {
   "cell_type": "code",
   "execution_count": 9,
   "id": "9b21d112",
   "metadata": {},
   "outputs": [
    {
     "name": "stdout",
     "output_type": "stream",
     "text": [
      "Prefix :  +AB-CD\n"
     ]
    }
   ],
   "source": [
    "def isOperator(x):\n",
    "\n",
    "\tif x == \"+\":\n",
    "\t\treturn True\n",
    "\n",
    "\tif x == \"-\":\n",
    "\t\treturn True\n",
    "\n",
    "\tif x == \"/\":\n",
    "\t\treturn True\n",
    "\n",
    "\tif x == \"*\":\n",
    "\t\treturn True\n",
    "\n",
    "\treturn False\n",
    "\n",
    "\n",
    "\n",
    "def postToPre(post_exp):\n",
    "\n",
    "\ts = []\n",
    "\n",
    "\tlength = len(post_exp)\n",
    "\n",
    "\tfor i in range(length):\n",
    "\n",
    "\t\tif (isOperator(post_exp[i])):\n",
    "\n",
    "\t\t\top1 = s[-1]\n",
    "\t\t\ts.pop()\n",
    "\t\t\top2 = s[-1]\n",
    "\t\t\ts.pop()\n",
    "\n",
    "\t\t\ttemp = post_exp[i] + op2 + op1\n",
    "\n",
    "\t\t\ts.append(temp)\n",
    "\n",
    "\t\telse:\n",
    "\n",
    "\t\t\ts.append(post_exp[i])\n",
    "\n",
    "\t\n",
    "\tans = \"\"\n",
    "\tfor i in s:\n",
    "\t\tans += i\n",
    "\treturn ans\n",
    "\n",
    "if __name__ == \"__main__\":\n",
    "\n",
    "\tpost_exp = \"AB+CD-\"\n",
    "\t\n",
    "\tprint(\"Prefix : \", postToPre(post_exp))\n",
    "\n"
   ]
  },
  {
   "cell_type": "markdown",
   "id": "4a136185",
   "metadata": {},
   "source": [
    "### Q7. Write a program to convert prefix expression to infix expression.\n",
    "\n"
   ]
  },
  {
   "cell_type": "code",
   "execution_count": 13,
   "id": "3392b732",
   "metadata": {},
   "outputs": [
    {
     "name": "stdout",
     "output_type": "stream",
     "text": [
      "((A-(B/C))*((A/K)-L))\n"
     ]
    }
   ],
   "source": [
    "def prefixToInfix(prefix):\n",
    "\tstack = []\n",
    "\t\n",
    "\ti = len(prefix) - 1\n",
    "\twhile i >= 0:\n",
    "\t\tif not isOperator(prefix[i]):\n",
    "\t\t\t\n",
    "\t\t\tstack.append(prefix[i])\n",
    "\t\t\ti -= 1\n",
    "\t\telse:\n",
    "\t\t\n",
    "\t\t\tstr = \"(\" + stack.pop() + prefix[i] + stack.pop() + \")\"\n",
    "\t\t\tstack.append(str)\n",
    "\t\t\ti -= 1\n",
    "\t\n",
    "\treturn stack.pop()\n",
    "\n",
    "def isOperator(c):\n",
    "\tif c == \"*\" or c == \"+\" or c == \"-\" or c == \"/\" or c == \"^\" or c == \"(\" or c == \")\":\n",
    "\t\treturn True\n",
    "\telse:\n",
    "\t\treturn False\n",
    "\n",
    "if __name__==\"__main__\":\n",
    "\tstr = \"*-A/BC-/AKL\"\n",
    "\tprint(prefixToInfix(str))"
   ]
  },
  {
   "cell_type": "markdown",
   "id": "cecaf85e",
   "metadata": {},
   "source": [
    "### Q8. Write a program to check if all the brackets are closed in a given code snippet."
   ]
  },
  {
   "cell_type": "code",
   "execution_count": 14,
   "id": "5f97df3b",
   "metadata": {},
   "outputs": [
    {
     "name": "stdout",
     "output_type": "stream",
     "text": [
      "Balanced\n"
     ]
    }
   ],
   "source": [
    "def areBracketsBalanced(expr):\n",
    "\tstack = []\n",
    "\tfor char in expr:\n",
    "\t\tif char in [\"(\", \"{\", \"[\"]:\n",
    "\t\t\tstack.append(char)\n",
    "\t\telse:\n",
    "\n",
    "\t\t\tif not stack:\n",
    "\t\t\t\treturn False\n",
    "\t\t\tcurrent_char = stack.pop()\n",
    "\t\t\tif current_char == '(':\n",
    "\t\t\t\tif char != \")\":\n",
    "\t\t\t\t\treturn False\n",
    "\t\t\tif current_char == '{':\n",
    "\t\t\t\tif char != \"}\":\n",
    "\t\t\t\t\treturn False\n",
    "\t\t\tif current_char == '[':\n",
    "\t\t\t\tif char != \"]\":\n",
    "\t\t\t\t\treturn False\n",
    "\n",
    "\tif stack:\n",
    "\t\treturn False\n",
    "\treturn True\n",
    "if __name__ == \"__main__\":\n",
    "\texpr = \"{()}[]\"\n",
    "\tif areBracketsBalanced(expr):\n",
    "\t\tprint(\"Balanced\")\n",
    "\telse:\n",
    "\t\tprint(\"Not Balanced\")"
   ]
  },
  {
   "cell_type": "markdown",
   "id": "eda4b472",
   "metadata": {},
   "source": [
    "### Q9. Write a program to reverse a stack.\n",
    "\n"
   ]
  },
  {
   "cell_type": "code",
   "execution_count": 16,
   "id": "b1b933b6",
   "metadata": {},
   "outputs": [
    {
     "name": "stdout",
     "output_type": "stream",
     "text": [
      "Original Stack\n",
      "5\n",
      "4\n",
      "3\n",
      "2\n",
      "1\n",
      "\n",
      "Stack after Reversing\n",
      "1\n",
      "2\n",
      "3\n",
      "4\n",
      "5\n"
     ]
    }
   ],
   "source": [
    "class Stack:\n",
    "\tdef __init__(self):\n",
    "\t\tself.Elements = []\n",
    "\tdef push(self, value):\n",
    "\t\tself.Elements.append(value)\n",
    "\tdef pop(self):\n",
    "\t\treturn self.Elements.pop()\n",
    "\tdef empty(self):\n",
    "\t\treturn self.Elements == []\n",
    "\tdef show(self):\n",
    "\t\tfor value in reversed(self.Elements):\n",
    "\t\t\tprint(value)\n",
    "\n",
    "def BottomInsert(s, value):\n",
    "\tif s.empty():\n",
    "\t\ts.push(value)\n",
    "\telse:\n",
    "\t\tpopped = s.pop()\n",
    "\t\tBottomInsert(s, value)\n",
    "\t\ts.push(popped)\n",
    "\n",
    "def Reverse(s):\n",
    "\tif s.empty():\n",
    "\t\tpass\n",
    "\telse:\n",
    "\t\tpopped = s.pop()\n",
    "\t\tReverse(s)\n",
    "\t\tBottomInsert(s, popped)\n",
    "\n",
    "\n",
    "stk = Stack()\n",
    "\n",
    "stk.push(1)\n",
    "stk.push(2)\n",
    "stk.push(3)\n",
    "stk.push(4)\n",
    "stk.push(5)\n",
    "\n",
    "print(\"Original Stack\")\n",
    "stk.show()\n",
    "\n",
    "print(\"\\nStack after Reversing\")\n",
    "Reverse(stk)\n",
    "stk.show()\n"
   ]
  },
  {
   "cell_type": "markdown",
   "id": "d953ebb6",
   "metadata": {},
   "source": [
    "### Q10. Write a program to find the smallest number using a stack.\n",
    "\n"
   ]
  },
  {
   "cell_type": "code",
   "execution_count": 4,
   "id": "00b31683",
   "metadata": {},
   "outputs": [
    {
     "name": "stdout",
     "output_type": "stream",
     "text": [
      "How many numbers: 4\n",
      "Enter number: 1\n",
      "Enter number: 2\n",
      "Enter number: 3\n",
      "Enter number: 4\n",
      "Smallest number in the list is :   1\n"
     ]
    }
   ],
   "source": [
    "First = []\n",
    "num = int(input('How many numbers: '))\n",
    "\n",
    "for n in range(num):\n",
    "    numbers = int(input('Enter number: '))\n",
    "    First.append(numbers)\n",
    "    \n",
    "print(\"Smallest number in the list is :  \", min(First))\n"
   ]
  },
  {
   "cell_type": "code",
   "execution_count": null,
   "id": "1e6098ce",
   "metadata": {},
   "outputs": [],
   "source": []
  }
 ],
 "metadata": {
  "kernelspec": {
   "display_name": "Python 3 (ipykernel)",
   "language": "python",
   "name": "python3"
  },
  "language_info": {
   "codemirror_mode": {
    "name": "ipython",
    "version": 3
   },
   "file_extension": ".py",
   "mimetype": "text/x-python",
   "name": "python",
   "nbconvert_exporter": "python",
   "pygments_lexer": "ipython3",
   "version": "3.10.1"
  }
 },
 "nbformat": 4,
 "nbformat_minor": 5
}
